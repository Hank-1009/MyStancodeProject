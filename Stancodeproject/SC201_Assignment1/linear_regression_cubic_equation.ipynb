{
 "cells": [
  {
   "cell_type": "code",
   "execution_count": 1,
   "metadata": {},
   "outputs": [],
   "source": [
    "# File: linear_regression_one_varialbe\n",
    "# Name: \n",
    "# ----------------------------\n",
    "# This file shows the fundamental concepts of \n",
    "# machine learing:\n",
    "#   - loss function\n",
    "#   - cost function\n",
    "#   - linear regression\n",
    "#.  - polynomial features\n",
    "#   - training process"
   ]
  },
  {
   "cell_type": "code",
   "execution_count": 2,
   "metadata": {},
   "outputs": [],
   "source": [
    "import matplotlib.pyplot as plt\n",
    "import numpy as np"
   ]
  },
  {
   "cell_type": "code",
   "execution_count": 3,
   "metadata": {},
   "outputs": [],
   "source": [
    "# This function computes the L2 loss which is \n",
    "# ----------------------------------------\n",
    "# [sum of (hypothesis(x_i) - y_i)^2] / (2*m)\n",
    "# where hypothesis(x_i) == theta1(x_i^3) + theta2(x_i^2) + theta3(x_i) + b\n",
    "# ----------------------------------------\n",
    "# theta1: float, the parameter of x_i^3\n",
    "# theta2: float, the parameter of x_i^2\n",
    "# theta3: float, the parameter of x_i\n",
    "# b     : float, the parameter that controls the amount of line shift\n",
    "# x     : list, containing 21 data points\n",
    "# y     : list, containing 21 data points\n",
    "# return: float, the sum over all L2 losses of data points\n",
    "\n",
    "def cost_function(theta1, theta2, theta3, b, x, y):\n",
    "    return sum((theta1 * (x[i]**3) + theta2 * (x[i]**2) + theta3 * x[i] + b - y[i])**2 for i in range(len(x)))/ (2*len(x)) \n",
    "        "
   ]
  },
  {
   "cell_type": "code",
   "execution_count": 4,
   "metadata": {},
   "outputs": [
    {
     "name": "stdout",
     "output_type": "stream",
     "text": [
      "0.14631688333333334\n"
     ]
    }
   ],
   "source": [
    "# Test for cost_function. You should see 0.14631688333333334\n",
    "print(cost_function(0.1, 0.2, 0.3, -0.5, [0.3, 0.4, 0.5], [0.1, 0.2, 0.3]))"
   ]
  },
  {
   "cell_type": "code",
   "execution_count": 5,
   "metadata": {},
   "outputs": [],
   "source": [
    "def dJ_dtheta1(theta1, theta2, theta3, b, x, y):\n",
    "    return sum((theta1 * (x[i]**3) + theta2 * (x[i]**2) + theta3 * x[i] + b - y[i])*(x[i]**3) for i in range(len(x)))/len(x) "
   ]
  },
  {
   "cell_type": "code",
   "execution_count": 6,
   "metadata": {},
   "outputs": [
    {
     "name": "stdout",
     "output_type": "stream",
     "text": [
      "-0.040437\n"
     ]
    }
   ],
   "source": [
    "# Test for dJ_dtheta1. You should see -0.040437\n",
    "print(dJ_dtheta1(0.1, 0.2, 0.3, -0.5, [0.3, 0.4, 0.5], [0.1, 0.2, 0.3]))"
   ]
  },
  {
   "cell_type": "code",
   "execution_count": 7,
   "metadata": {},
   "outputs": [],
   "source": [
    "def dJ_dtheta2(theta1, theta2, theta3, b, x, y):\n",
    "     return sum((theta1 * (x[i]**3) + theta2 * (x[i]**2) + theta3 * x[i] + b - y[i])*(x[i]**2) for i in range(len(x)))/len(x)"
   ]
  },
  {
   "cell_type": "code",
   "execution_count": 8,
   "metadata": {},
   "outputs": [
    {
     "name": "stdout",
     "output_type": "stream",
     "text": [
      "-0.09252266666666666\n"
     ]
    }
   ],
   "source": [
    "# Test for dJ_dtheta2. You should see -0.09252266666666666\n",
    "print(dJ_dtheta2(0.1, 0.2, 0.3, -0.5, [0.3, 0.4, 0.5], [0.1, 0.2, 0.3]))"
   ]
  },
  {
   "cell_type": "code",
   "execution_count": 9,
   "metadata": {},
   "outputs": [],
   "source": [
    "def dJ_dtheta3(theta1, theta2, theta3, b, x, y):\n",
    "     return sum((theta1 * (x[i]**3) + theta2 * (x[i]**2) + theta3 * x[i] + b - y[i])*(x[i]) for i in range(len(x)))/len(x)"
   ]
  },
  {
   "cell_type": "code",
   "execution_count": 10,
   "metadata": {},
   "outputs": [
    {
     "name": "stdout",
     "output_type": "stream",
     "text": [
      "-0.21906\n"
     ]
    }
   ],
   "source": [
    "# Test for dJ_dtheta3. You should see -0.21906\n",
    "print(dJ_dtheta3(0.1, 0.2, 0.3, -0.5, [0.3, 0.4, 0.5], [0.1, 0.2, 0.3]))"
   ]
  },
  {
   "cell_type": "code",
   "execution_count": 11,
   "metadata": {},
   "outputs": [],
   "source": [
    "def dJ_db(theta1, theta2, theta3, b, x, y):\n",
    "     return sum((theta1 * (x[i]**3) + theta2 * (x[i]**2) + theta3 * x[i] + b - y[i]) for i in range(len(x)))/len(x)"
   ]
  },
  {
   "cell_type": "code",
   "execution_count": 12,
   "metadata": {},
   "outputs": [
    {
     "name": "stdout",
     "output_type": "stream",
     "text": [
      "-0.5394666666666666\n"
     ]
    }
   ],
   "source": [
    "# Test for dJ_db. You should see -0.5394666666666666\n",
    "print(dJ_db(0.1, 0.2, 0.3, -0.5, [0.3, 0.4, 0.5], [0.1, 0.2, 0.3]))"
   ]
  },
  {
   "cell_type": "code",
   "execution_count": 13,
   "metadata": {},
   "outputs": [],
   "source": [
    "# ---------- DO NOT EDIT THE CODE BELOW THIS LINE ---------- #"
   ]
  },
  {
   "cell_type": "code",
   "execution_count": 14,
   "metadata": {},
   "outputs": [],
   "source": [
    "x = [6.1101,5.5277,8.5186,7.0032,5.8598,8.3829,7.4764,8.5781,6.4862,5.0546,5.7107,10.164,5.734,8.4084,5.6407,5.3794,6.3654,5.1301,6.4296,7.0708,6.1891]"
   ]
  },
  {
   "cell_type": "code",
   "execution_count": 15,
   "metadata": {},
   "outputs": [],
   "source": [
    "y = [6.592,9.1302,13.662,11.854,6.8233,11.886,4.3483,12,6.5987,3.8166,3.2522,15.505,3.1551,7.2258,0.71618,3.5129,5.3048,0.56077,3.6518,5.3893,3.1386]"
   ]
  },
  {
   "cell_type": "code",
   "execution_count": 16,
   "metadata": {},
   "outputs": [],
   "source": [
    "# ---------- Showing your data ---------- #"
   ]
  },
  {
   "cell_type": "code",
   "execution_count": 17,
   "metadata": {},
   "outputs": [
    {
     "data": {
      "text/plain": [
       "(0.0, 30.0)"
      ]
     },
     "execution_count": 17,
     "metadata": {},
     "output_type": "execute_result"
    },
    {
     "data": {
      "image/png": "[encoded data removed]",
      "text/plain": [
       "<Figure size 432x288 with 1 Axes>"
      ]
     },
     "metadata": {
      "needs_background": "light"
     },
     "output_type": "display_data"
    }
   ],
   "source": [
    "plt.scatter(x, y)\n",
    "axes = plt.gca()\n",
    "axes.set_xlim([0,12])\n",
    "axes.set_ylim([0,30])"
   ]
  },
  {
   "cell_type": "code",
   "execution_count": 18,
   "metadata": {},
   "outputs": [],
   "source": [
    "# Please perform feature scaling (normalization) by: \n",
    "# subtracting min(x) from each data point and dividing the result with (max(x)-min(x))\n",
    "x_max = max(x)\n",
    "x_min = min(x)\n",
    "x = list((x[i]-x_min)/(x_max-x_min) for i in range(len(x))) \n",
    "y_max = max(y)\n",
    "y_min = min(y)\n",
    "y = list((y[i]-y_min)/(y_max-y_min) for i in range(len(x)))  "
   ]
  },
  {
   "cell_type": "code",
   "execution_count": 19,
   "metadata": {},
   "outputs": [
    {
     "name": "stdout",
     "output_type": "stream",
     "text": [
      "0.12841038086663803\n",
      "0.18009827204211928\n"
     ]
    }
   ],
   "source": [
    "print(x[10])         # You should see 0.12841038086663803\n",
    "print(y[10])         # You should see 0.18009827204211928"
   ]
  },
  {
   "cell_type": "code",
   "execution_count": 20,
   "metadata": {},
   "outputs": [
    {
     "data": {
      "text/plain": [
       "(0.0, 2.0)"
      ]
     },
     "execution_count": 20,
     "metadata": {},
     "output_type": "execute_result"
    },
    {
     "data": {
      "image/png": "[encoded data removed]",
      "text/plain": [
       "<Figure size 432x288 with 1 Axes>"
      ]
     },
     "metadata": {
      "needs_background": "light"
     },
     "output_type": "display_data"
    }
   ],
   "source": [
    "plt.scatter(x, y)\n",
    "axes = plt.gca()\n",
    "axes.set_xlim([-1,1.5])\n",
    "axes.set_ylim([0,2])"
   ]
  },
  {
   "cell_type": "code",
   "execution_count": 21,
   "metadata": {},
   "outputs": [],
   "source": [
    "# ------------ Initialize your theta ------------ #\n",
    "# -----------  Choose from -1 to +1 ------------ #"
   ]
  },
  {
   "cell_type": "code",
   "execution_count": 22,
   "metadata": {},
   "outputs": [],
   "source": [
    "theta1 = 0.5\n",
    "theta2 = 0.6\n",
    "theta3 = 0.7\n",
    "b = 1\n"
   ]
  },
  {
   "cell_type": "code",
   "execution_count": 23,
   "metadata": {},
   "outputs": [],
   "source": [
    "# ---------- Initialize your alpha ---------- #"
   ]
  },
  {
   "cell_type": "code",
   "execution_count": 24,
   "metadata": {},
   "outputs": [],
   "source": [
    "# TODO: which value is appropriate for alpha?\n",
    "# Try 0.001, 0.01, 0.1"
   ]
  },
  {
   "cell_type": "code",
   "execution_count": 25,
   "metadata": {},
   "outputs": [],
   "source": [
    "alpha = 0.1"
   ]
  },
  {
   "cell_type": "code",
   "execution_count": 26,
   "metadata": {},
   "outputs": [],
   "source": [
    "# ---------- Training process ---------- #\n",
    "# ---- 50 iterations over all data ----- # "
   ]
  },
  {
   "cell_type": "code",
   "execution_count": 27,
   "metadata": {},
   "outputs": [],
   "source": [
    "# Remember to append updated theta1, theta2, theta3, b, and cost.\n",
    "\n",
    "theta1_history = []\n",
    "theta2_history = []\n",
    "theta3_history = []\n",
    "b_history = []\n",
    "cost_history = []\n",
    "for i in range(50):\n",
    "    theta1_history.append(theta1)\n",
    "    theta2_history.append(theta2)\n",
    "    theta3_history.append(theta3)\n",
    "    b_history.append(b)\n",
    "    cost = cost_function(theta1, theta2, theta3, b, x, y)\n",
    "    cost_history.append(cost)\n",
    "    # G.D\n",
    "    theta1 = theta1 - alpha * dJ_dtheta1(theta1, theta2, theta3, b, x, y)\n",
    "    theta2 = theta2 - alpha * dJ_dtheta2(theta1, theta2, theta3, b, x, y)\n",
    "    theta3 = theta3 - alpha * dJ_dtheta3(theta1, theta2, theta3, b, x, y)\n",
    "    b = b - alpha * dJ_db(theta1, theta2, theta3, b, x, y)\n"
   ]
  },
  {
   "cell_type": "code",
   "execution_count": 28,
   "metadata": {},
   "outputs": [],
   "source": [
    "# ---------- Cost changes during training process ---------- #"
   ]
  },
  {
   "cell_type": "code",
   "execution_count": 29,
   "metadata": {},
   "outputs": [
    {
     "name": "stdout",
     "output_type": "stream",
     "text": [
      "[0.5294955041386179, 0.41764061973341865, 0.3301526747620061, 0.2617203547955684, 0.20819025499635974, 0.1663144279036873, 0.13355297410472833, 0.10791967435025648, 0.08786127848133564, 0.07216311276335828, 0.05987526728896379, 0.05025487629486544, 0.042720982610808776, 0.036819242506227354, 0.032194325435866124, 0.028568330981775795, 0.025723911087006546, 0.023491071715952036, 0.021736851748254127, 0.020357251816202376, 0.019270922563272796, 0.018414228748883692, 0.017737389253610254, 0.017201458434289323, 0.016775965415368747, 0.016437067890351112, 0.01616610827623469, 0.015948484515397612, 0.015772766939858365, 0.015630007564625965, 0.015513199868837776, 0.015416856266308425, 0.015336677616747582, 0.015269294719839122, 0.015212066106445325, 0.015162919860146937, 0.015120229875953173, 0.015082719053809293, 0.015049383559557468, 0.015019433564631549, 0.014992246875686063, 0.01496733264733298, 0.014944302982697206, 0.014922850704758864, 0.01490273195547843, 0.014883752572220627, 0.014865757419771067, 0.014848622035168827, 0.014832246082523334, 0.014816548224442031]\n"
     ]
    }
   ],
   "source": [
    "# Pay attention to the trend of cost. \n",
    "# Is is rising? If it is, why?\n",
    "\n",
    "print(cost_history)"
   ]
  },
  {
   "cell_type": "code",
   "execution_count": 30,
   "metadata": {},
   "outputs": [],
   "source": [
    "# ---------------------------- Please do not modify codes below this line ---------------------------- #"
   ]
  },
  {
   "cell_type": "code",
   "execution_count": 31,
   "metadata": {},
   "outputs": [
    {
     "name": "stdout",
     "output_type": "stream",
     "text": [
      "theta1: 0.5, theta2: 0.6, theta3: 0.7, b: 1\n"
     ]
    },
    {
     "data": {
      "image/png": "[encoded data removed]",
      "text/plain": [
       "<Figure size 432x288 with 1 Axes>"
      ]
     },
     "metadata": {
      "needs_background": "light"
     },
     "output_type": "display_data"
    }
   ],
   "source": [
    "theta1 = theta1_history[0]\n",
    "theta2 = theta2_history[0]\n",
    "theta3 = theta3_history[0]\n",
    "b = b_history[0]\n",
    "\n",
    "print(f'theta1: {theta1}, theta2: {theta2}, theta3: {theta3}, b: {b}')\n",
    "\n",
    "x_plot = np.linspace(-0.25, 1.25, 100)\n",
    "y_plot = theta1*(x_plot**3)+theta2*(x_plot**2)+theta3*(x_plot)+b\n",
    "\n",
    "\n",
    "plt.scatter(x_plot, y_plot, color='red')\n",
    "plt.scatter(x, y, color='blue')\n",
    "\n",
    "\n",
    "# show the plot\n",
    "plt.title(\"1 iterations\", color='red', fontdict = {'fontsize': 20})\n",
    "plt.show()"
   ]
  },
  {
   "cell_type": "code",
   "execution_count": 32,
   "metadata": {},
   "outputs": [
    {
     "name": "stdout",
     "output_type": "stream",
     "text": [
      "theta1: 0.3988772819757271, theta2: 0.4647291239358998, theta3: 0.48129047110860923, b: 0.4390793790470639\n"
     ]
    },
    {
     "data": {
      "image/png": "[encoded data removed]",
      "text/plain": [
       "<Figure size 432x288 with 1 Axes>"
      ]
     },
     "metadata": {
      "needs_background": "light"
     },
     "output_type": "display_data"
    }
   ],
   "source": [
    "theta1 = theta1_history[9]\n",
    "theta2 = theta2_history[9]\n",
    "theta3 = theta3_history[9]\n",
    "b = b_history[9]\n",
    "\n",
    "print(f'theta1: {theta1}, theta2: {theta2}, theta3: {theta3}, b: {b}')\n",
    "\n",
    "x_plot = np.linspace(-0.25, 1.25, 100)\n",
    "y_plot = theta1*(x_plot**3)+theta2*(x_plot**2)+theta3*(x_plot)+b\n",
    "\n",
    "\n",
    "plt.scatter(x_plot, y_plot, color='red')\n",
    "plt.scatter(x, y, color='blue')\n",
    "\n",
    "\n",
    "# show the plot\n",
    "plt.title(\"10 iterations\", color='red', fontdict = {'fontsize': 20})\n",
    "plt.show()"
   ]
  },
  {
   "cell_type": "code",
   "execution_count": 33,
   "metadata": {},
   "outputs": [
    {
     "name": "stdout",
     "output_type": "stream",
     "text": [
      "theta1: 0.35546437226320293, theta2: 0.4100858911708029, theta3: 0.39988735213817966, b: 0.24758952526723269\n"
     ]
    },
    {
     "data": {
      "image/png": "[encoded data removed]",
      "text/plain": [
       "<Figure size 432x288 with 1 Axes>"
      ]
     },
     "metadata": {
      "needs_background": "light"
     },
     "output_type": "display_data"
    }
   ],
   "source": [
    "theta1 = theta1_history[19]\n",
    "theta2 = theta2_history[19]\n",
    "theta3 = theta3_history[19]\n",
    "b = b_history[19]\n",
    "\n",
    "print(f'theta1: {theta1}, theta2: {theta2}, theta3: {theta3}, b: {b}')\n",
    "\n",
    "x_plot = np.linspace(-0.25, 1.25, 100)\n",
    "y_plot = theta1*(x_plot**3)+theta2*(x_plot**2)+theta3*(x_plot)+b\n",
    "\n",
    "\n",
    "plt.scatter(x_plot, y_plot, color='red')\n",
    "plt.scatter(x, y, color='blue')\n",
    "\n",
    "\n",
    "# show the plot\n",
    "plt.title(\"20 iterations\", color='red', fontdict = {'fontsize': 20})\n",
    "plt.show()"
   ]
  },
  {
   "cell_type": "code",
   "execution_count": 34,
   "metadata": {},
   "outputs": [],
   "source": [
    "# ---------- Plot the errors over the training process ---------- #"
   ]
  },
  {
   "cell_type": "code",
   "execution_count": 35,
   "metadata": {},
   "outputs": [
    {
     "name": "stdout",
     "output_type": "stream",
     "text": [
      "theta1: 0.3353814819535299, theta2: 0.3875111671623299, theta3: 0.37189375977448397, b: 0.19562120447596132\n"
     ]
    },
    {
     "data": {
      "image/png": "[encoded data removed]",
      "text/plain": [
       "<Figure size 432x288 with 1 Axes>"
      ]
     },
     "metadata": {
      "needs_background": "light"
     },
     "output_type": "display_data"
    }
   ],
   "source": [
    "theta1 = theta1_history[29]\n",
    "theta2 = theta2_history[29]\n",
    "theta3 = theta3_history[29]\n",
    "b = b_history[29]\n",
    "\n",
    "print(f'theta1: {theta1}, theta2: {theta2}, theta3: {theta3}, b: {b}')\n",
    "\n",
    "x_plot = np.linspace(-0.25, 1.25, 100)\n",
    "y_plot = theta1*(x_plot**3)+theta2*(x_plot**2)+theta3*(x_plot)+b\n",
    "\n",
    "\n",
    "plt.scatter(x_plot, y_plot, color='red')\n",
    "plt.scatter(x, y, color='blue')\n",
    "\n",
    "\n",
    "# show the plot\n",
    "plt.title(\"30 iterations\", color='red', fontdict = {'fontsize': 20})\n",
    "plt.show()"
   ]
  },
  {
   "cell_type": "code",
   "execution_count": 36,
   "metadata": {},
   "outputs": [
    {
     "name": "stdout",
     "output_type": "stream",
     "text": [
      "theta1: 0.3229497284681612, theta2: 0.37519740375444566, theta3: 0.36033134756077895, b: 0.18383572525997507\n"
     ]
    },
    {
     "data": {
      "image/png": "[encoded data removed]",
      "text/plain": [
       "<Figure size 432x288 with 1 Axes>"
      ]
     },
     "metadata": {
      "needs_background": "light"
     },
     "output_type": "display_data"
    }
   ],
   "source": [
    "theta1 = theta1_history[39]\n",
    "theta2 = theta2_history[39]\n",
    "theta3 = theta3_history[39]\n",
    "b = b_history[39]\n",
    "\n",
    "print(f'theta1: {theta1}, theta2: {theta2}, theta3: {theta3}, b: {b}')\n",
    "\n",
    "x_plot = np.linspace(-0.25, 1.25, 100)\n",
    "y_plot = theta1*(x_plot**3)+theta2*(x_plot**2)+theta3*(x_plot)+b\n",
    "\n",
    "\n",
    "plt.scatter(x_plot, y_plot, color='red')\n",
    "plt.scatter(x, y, color='blue')\n",
    "\n",
    "\n",
    "# show the plot\n",
    "plt.title(\"40 iterations\", color='red', fontdict = {'fontsize': 20})\n",
    "plt.show()"
   ]
  },
  {
   "cell_type": "code",
   "execution_count": 37,
   "metadata": {},
   "outputs": [
    {
     "data": {
      "text/plain": [
       "Text(0.5, 1.0, 'Errors over iterations')"
      ]
     },
     "execution_count": 37,
     "metadata": {},
     "output_type": "execute_result"
    },
    {
     "data": {
      "image/png": "[encoded data removed]",
      "text/plain": [
       "<Figure size 432x288 with 1 Axes>"
      ]
     },
     "metadata": {
      "needs_background": "light"
     },
     "output_type": "display_data"
    }
   ],
   "source": [
    "cost_x = list(range(len(cost_history)))\n",
    "cost_y = cost_history\n",
    "plt.plot(cost_x, cost_y)\n",
    "plt.title(\"Errors over iterations\", color = 'blue')"
   ]
  },
  {
   "cell_type": "code",
   "execution_count": null,
   "metadata": {},
   "outputs": [],
   "source": []
  },
  {
   "cell_type": "code",
   "execution_count": null,
   "metadata": {},
   "outputs": [],
   "source": []
  }
 ],
 "metadata": {
  "kernelspec": {
   "display_name": "Python 3",
   "language": "python",
   "name": "python3"
  },
  "language_info": {
   "codemirror_mode": {
    "name": "ipython",
    "version": 3
   },
   "file_extension": ".py",
   "mimetype": "text/x-python",
   "name": "python",
   "nbconvert_exporter": "python",
   "pygments_lexer": "ipython3",
   "version": "3.8.3"
  }
 },
 "nbformat": 4,
 "nbformat_minor": 4
}
